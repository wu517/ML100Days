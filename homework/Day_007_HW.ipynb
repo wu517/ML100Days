{
 "cells": [
  {
   "cell_type": "markdown",
   "metadata": {
    "colab_type": "text",
    "id": "uXGll28asvFS"
   },
   "source": [
    "# 作業 "
   ]
  },
  {
   "cell_type": "markdown",
   "metadata": {},
   "source": [
    "### 1. 請比較對一個 100x 100 x 100 的陣列，使用不同方法對每一個元素 +1 的時間比較。\n",
    "\n",
    "\n"
   ]
  },
  {
   "cell_type": "code",
   "execution_count": 1,
   "metadata": {},
   "outputs": [],
   "source": [
    "#引進套件\n",
    "import numpy as np"
   ]
  },
  {
   "cell_type": "code",
   "execution_count": 2,
   "metadata": {
    "colab": {},
    "colab_type": "code",
    "id": "5QrYoyNWsvFS"
   },
   "outputs": [
    {
     "data": {
      "text/plain": [
       "array([[[9, 1, 3, ..., 4, 5, 9],\n",
       "        [2, 6, 7, ..., 2, 5, 6],\n",
       "        [4, 0, 6, ..., 7, 9, 0],\n",
       "        ...,\n",
       "        [2, 1, 4, ..., 9, 0, 8],\n",
       "        [5, 1, 9, ..., 9, 7, 9],\n",
       "        [1, 8, 3, ..., 9, 8, 3]],\n",
       "\n",
       "       [[7, 0, 4, ..., 6, 3, 1],\n",
       "        [1, 8, 3, ..., 8, 1, 2],\n",
       "        [4, 1, 0, ..., 5, 0, 3],\n",
       "        ...,\n",
       "        [7, 2, 0, ..., 6, 0, 7],\n",
       "        [3, 0, 1, ..., 8, 9, 0],\n",
       "        [8, 2, 3, ..., 0, 3, 8]],\n",
       "\n",
       "       [[7, 3, 5, ..., 8, 2, 3],\n",
       "        [3, 6, 4, ..., 2, 4, 2],\n",
       "        [1, 6, 8, ..., 1, 3, 6],\n",
       "        ...,\n",
       "        [9, 0, 0, ..., 1, 4, 5],\n",
       "        [7, 6, 2, ..., 9, 7, 4],\n",
       "        [0, 2, 7, ..., 4, 5, 9]],\n",
       "\n",
       "       ...,\n",
       "\n",
       "       [[1, 4, 6, ..., 0, 4, 4],\n",
       "        [5, 5, 8, ..., 3, 5, 2],\n",
       "        [0, 1, 4, ..., 3, 7, 5],\n",
       "        ...,\n",
       "        [8, 2, 5, ..., 2, 6, 2],\n",
       "        [3, 4, 8, ..., 5, 4, 0],\n",
       "        [4, 0, 0, ..., 1, 4, 3]],\n",
       "\n",
       "       [[8, 2, 5, ..., 7, 7, 1],\n",
       "        [8, 0, 2, ..., 3, 1, 6],\n",
       "        [4, 5, 5, ..., 7, 4, 3],\n",
       "        ...,\n",
       "        [8, 1, 3, ..., 5, 2, 1],\n",
       "        [8, 9, 5, ..., 4, 4, 3],\n",
       "        [3, 0, 5, ..., 6, 5, 5]],\n",
       "\n",
       "       [[8, 4, 8, ..., 4, 1, 7],\n",
       "        [0, 0, 8, ..., 0, 6, 2],\n",
       "        [9, 8, 2, ..., 9, 1, 3],\n",
       "        ...,\n",
       "        [4, 5, 8, ..., 6, 1, 8],\n",
       "        [5, 0, 2, ..., 1, 5, 8],\n",
       "        [1, 0, 1, ..., 2, 5, 6]]])"
      ]
     },
     "execution_count": 2,
     "metadata": {},
     "output_type": "execute_result"
    }
   ],
   "source": [
    "Z = np.random.randint(0, 10, 1000000).reshape(100, 100, 100)\n",
    "Z"
   ]
  },
  {
   "cell_type": "markdown",
   "metadata": {},
   "source": [
    "timeit是python內建的模組; 主要用來測量幾行簡短程式碼或一個函式的執行時間"
   ]
  },
  {
   "cell_type": "code",
   "execution_count": 3,
   "metadata": {},
   "outputs": [
    {
     "name": "stdout",
     "output_type": "stream",
     "text": [
      "240 ms ± 34.2 ms per loop (mean ± std. dev. of 7 runs, 10 loops each)\n"
     ]
    }
   ],
   "source": [
    "%%timeit #%%timeit [-n<N> -r<R> [-t|-c] -q -p<P> -o] setup_code code code…\n",
    "for i in Z.flat: #將陣列攤平後進行迴圈運算 \n",
    "    i+=1 #每一個元素+1的時間比較"
   ]
  },
  {
   "cell_type": "markdown",
   "metadata": {},
   "source": [
    "### 2. 如何從一個陣列中，找出出現頻率最高的數值與位置？\n"
   ]
  },
  {
   "cell_type": "code",
   "execution_count": 4,
   "metadata": {
    "colab": {},
    "colab_type": "code",
    "id": "e1gVI0tvsvFY",
    "scrolled": true
   },
   "outputs": [
    {
     "name": "stdout",
     "output_type": "stream",
     "text": [
      "[6 3 6 8 5 8 8 0 1 4 3 6 3 3 6 3 2 7 3 6 8 7 3 0 9 2 6 4 3 6 1 3 7 3 4 5 3\n",
      " 5 6 0 4 7 3 3 9 7 5 9 9 0]\n",
      "[0 0 0 0 1 1 2 2 3 3 3 3 3 3 3 3 3 3 3 3 3 4 4 4 4 5 5 5 5 6 6 6 6 6 6 6 6\n",
      " 7 7 7 7 7 8 8 8 8 9 9 9 9]\n"
     ]
    }
   ],
   "source": [
    "Z = np.random.randint(0,10,50)\n",
    "print(Z)\n",
    "print(np.sort(Z)) #將array排序好以便查看"
   ]
  },
  {
   "cell_type": "markdown",
   "metadata": {},
   "source": [
    "可以使用np.bincount()方法找出numpy的眾數，範例如下:<br>\n",
    "#x = np.array([0,1,1,3,2,1,7]) <br>\n",
    "可以看到x中最大的數為7，因此bin的數量為8，那麼它的索引值為0->7<br>\n",
    "#np.bincount(x) <br>\n",
    "輸出結果為：array([1,3,1,1,0,0,0,1]) <br>\n",
    "表示索引0出現了1次，索引1出現了3次......索引5出現了0次......<br>"
   ]
  },
  {
   "cell_type": "code",
   "execution_count": 5,
   "metadata": {},
   "outputs": [
    {
     "data": {
      "text/plain": [
       "array([ 4,  2,  2, 13,  4,  4,  8,  5,  4,  4], dtype=int64)"
      ]
     },
     "execution_count": 5,
     "metadata": {},
     "output_type": "execute_result"
    }
   ],
   "source": [
    "np.bincount(Z) #可以看到1的出現次數最多"
   ]
  },
  {
   "cell_type": "code",
   "execution_count": 6,
   "metadata": {},
   "outputs": [
    {
     "name": "stdout",
     "output_type": "stream",
     "text": [
      "3\n"
     ]
    }
   ],
   "source": [
    "mode=np.bincount(Z).argmax() #可以看到1出現的次數是最多的\n",
    "print(mode)"
   ]
  },
  {
   "cell_type": "code",
   "execution_count": 7,
   "metadata": {},
   "outputs": [
    {
     "data": {
      "text/plain": [
       "(array([ 1, 10, 12, 13, 15, 18, 22, 28, 31, 33, 36, 42, 43], dtype=int64),)"
      ]
     },
     "execution_count": 7,
     "metadata": {},
     "output_type": "execute_result"
    }
   ],
   "source": [
    "np.where(Z==mode) #找出所有眾數的位置"
   ]
  },
  {
   "cell_type": "markdown",
   "metadata": {},
   "source": [
    "### 3. 如何利用 list(...) 實現 a.tolist() 的效果？試著用程式實作。\n"
   ]
  },
  {
   "cell_type": "markdown",
   "metadata": {},
   "source": [
    "list() 只會把第一層的元素轉換成 List，多層的話只有第一層會轉；<br>\n",
    "tolist() 才能達成多層的型態轉換。"
   ]
  },
  {
   "cell_type": "code",
   "execution_count": 8,
   "metadata": {},
   "outputs": [
    {
     "name": "stdout",
     "output_type": "stream",
     "text": [
      "[5 4 9 2 7 3]\n",
      "[5, 4, 9, 2, 7, 3]\n",
      "[5, 4, 9, 2, 7, 3]\n"
     ]
    }
   ],
   "source": [
    "a = np.random.randint(10, size=6) \n",
    "print(a)\n",
    "print(a.tolist())\n",
    "print(list(a))\n",
    "#一維陣列的結果會一樣"
   ]
  },
  {
   "cell_type": "code",
   "execution_count": 9,
   "metadata": {},
   "outputs": [
    {
     "name": "stdout",
     "output_type": "stream",
     "text": [
      "[[1 8 1 3]\n",
      " [4 8 2 5]\n",
      " [0 5 3 1]]\n",
      "[[1, 8, 1, 3], [4, 8, 2, 5], [0, 5, 3, 1]]\n",
      "[array([1, 8, 1, 3]), array([4, 8, 2, 5]), array([0, 5, 3, 1])]\n",
      "[[1, 8, 1, 3], [4, 8, 2, 5], [0, 5, 3, 1]]\n"
     ]
    }
   ],
   "source": [
    "b = np.random.randint(10, size=(3,4)) \n",
    "print(b)\n",
    "print(b.tolist())\n",
    "\n",
    "print(list(b)) #二維陣列就只會有第一層轉而已\n",
    "\n",
    "list_b=[] #用來儲存轉換b的空陣列\n",
    "for row in b:\n",
    "    transfer=list(row)\n",
    "    list_b.append(transfer)\n",
    "print(list_b) #達成tolist()效果"
   ]
  },
  {
   "cell_type": "code",
   "execution_count": 10,
   "metadata": {},
   "outputs": [
    {
     "name": "stdout",
     "output_type": "stream",
     "text": [
      "[[[5 7]\n",
      "  [1 6]\n",
      "  [4 8]]\n",
      "\n",
      " [[0 7]\n",
      "  [8 4]\n",
      "  [2 1]]]\n",
      "[[[5, 7], [1, 6], [4, 8]], [[0, 7], [8, 4], [2, 1]]]\n",
      "[array([[5, 7],\n",
      "       [1, 6],\n",
      "       [4, 8]]), array([[0, 7],\n",
      "       [8, 4],\n",
      "       [2, 1]])]\n",
      "[[5, 7], [1, 6], [4, 8], [0, 7], [8, 4], [2, 1]]\n"
     ]
    }
   ],
   "source": [
    "c = np.random.randint(10, size=(2,3,2)) \n",
    "print(c)\n",
    "print(c.tolist())\n",
    "print(list(c)) #三維陣列就只有第一層會轉而已\n",
    "\n",
    "list_c=[] #用來儲存轉換c的空陣列\n",
    "for i in c:\n",
    "    for j in i:\n",
    "        transfer=list(j)\n",
    "        list_c.append(transfer)\n",
    "print(list_c) #達成tolist()效果但會少一層qq"
   ]
  }
 ],
 "metadata": {
  "colab": {
   "name": "Day_023_HW.ipynb",
   "provenance": []
  },
  "kernelspec": {
   "display_name": "Python 3",
   "language": "python",
   "name": "python3"
  },
  "language_info": {
   "codemirror_mode": {
    "name": "ipython",
    "version": 3
   },
   "file_extension": ".py",
   "mimetype": "text/x-python",
   "name": "python",
   "nbconvert_exporter": "python",
   "pygments_lexer": "ipython3",
   "version": "3.7.3"
  }
 },
 "nbformat": 4,
 "nbformat_minor": 1
}
