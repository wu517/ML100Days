{
 "cells": [
  {
   "cell_type": "markdown",
   "metadata": {
    "id": "P6xk2_jLsvFF"
   },
   "source": [
    "# [作業目標]\n",
    "\n",
    "1. [簡答題] 請問下列這三種方法有什麼不同？\n",
    "\n",
    "```\n",
    "print(a.sum()) \n",
    "print(np.sum(a))\n",
    "print(sum(a)) \n",
    "```\n",
    "\n",
    "2. 請對一個 5x5 的隨機矩陣作正規化的操作。\n",
    "\n",
    "3. 請建立一個長度等於 10 的正整數向量，並且將其中的最大值改成 -1。\n"
   ]
  },
  {
   "cell_type": "markdown",
   "metadata": {
    "id": "uXGll28asvFS"
   },
   "source": [
    "# 作業 "
   ]
  },
  {
   "cell_type": "markdown",
   "metadata": {
    "id": "lbz8VjL6jxyL"
   },
   "source": [
    "### 1. [簡答題] 請問下列這三種方法有什麼不同？\n",
    "\n",
    "```\n",
    "print(a.sum()) \n",
    "print(np.sum(a))\n",
    "print(sum(a)) \n",
    "```\n",
    "ANS:三種方法出來的結果都相同。\n",
    "\n"
   ]
  },
  {
   "cell_type": "code",
   "execution_count": 1,
   "metadata": {
    "id": "5QrYoyNWsvFS",
    "outputId": "e9e14d36-38ce-4ce5-edf2-3c7b129db580"
   },
   "outputs": [
    {
     "name": "stdout",
     "output_type": "stream",
     "text": [
      "[1 3 5 7 9]\n",
      "25\n",
      "25\n",
      "25\n"
     ]
    }
   ],
   "source": [
    "import numpy as np\n",
    "a=np.arange(1,10,2)\n",
    "print(a)\n",
    "print(a.sum())\n",
    "print(np.sum(a))\n",
    "print(sum(a))"
   ]
  },
  {
   "cell_type": "markdown",
   "metadata": {
    "id": "vVrjBXabjxyS"
   },
   "source": [
    "### 2. 請對一個 5x5 的隨機矩陣作正規化的操作。\n"
   ]
  },
  {
   "cell_type": "code",
   "execution_count": 2,
   "metadata": {
    "id": "ffDRVHs9jxyS"
   },
   "outputs": [],
   "source": [
    "#最小最大值正規化：將資料等比例縮放到 [0, 1] 區間中，可利用下列公式進行轉換：\n",
    "#Xnom=(X-Xmin)/(Xmax-Xmin)"
   ]
  },
  {
   "cell_type": "code",
   "execution_count": 3,
   "metadata": {
    "id": "e1gVI0tvsvFY",
    "outputId": "43bf676f-fd04-4edf-c062-b5fe7fe1f4bf"
   },
   "outputs": [
    {
     "data": {
      "text/plain": [
       "array([[8.33082276e-01, 1.86328333e-01, 3.65718658e-01, 8.96776159e-01,\n",
       "        1.16632899e-01],\n",
       "       [4.33203697e-01, 4.75844232e-01, 4.04505169e-04, 3.30903463e-01,\n",
       "        4.71505081e-01],\n",
       "       [6.44338733e-01, 4.64132692e-01, 1.14671211e-01, 4.39835462e-01,\n",
       "        5.71798720e-01],\n",
       "       [9.11277196e-01, 8.75581761e-01, 5.03403260e-01, 8.02279118e-01,\n",
       "        4.92883458e-01],\n",
       "       [9.53549982e-01, 8.43204058e-01, 7.64418520e-02, 9.00142005e-01,\n",
       "        1.55061306e-01]])"
      ]
     },
     "execution_count": 3,
     "metadata": {},
     "output_type": "execute_result"
    }
   ],
   "source": [
    "A = np.random.random((5, 5))\n",
    "A"
   ]
  },
  {
   "cell_type": "code",
   "execution_count": 4,
   "metadata": {},
   "outputs": [
    {
     "data": {
      "text/plain": [
       "array([[0.87361037, 0.19506343, 0.38327219, 0.9404353 , 0.12194193],\n",
       "       [0.45407464, 0.49881129, 0.        , 0.34674556, 0.49425884],\n",
       "       [0.67558861, 0.48652404, 0.1198838 , 0.46103241, 0.59948269],\n",
       "       [0.95564918, 0.91819903, 0.52772506, 0.841293  , 0.51668813],\n",
       "       [1.        , 0.88422971, 0.07977517, 0.9439666 , 0.16225939]])"
      ]
     },
     "execution_count": 4,
     "metadata": {},
     "output_type": "execute_result"
    }
   ],
   "source": [
    "A_nom=((A-np.nanmin(A))/(np.nanmax(A)-np.nanmin(A)))\n",
    "A_nom"
   ]
  },
  {
   "cell_type": "markdown",
   "metadata": {
    "id": "Ptc3ZrNQjxyU"
   },
   "source": [
    "### 3. 請建立一個長度等於 10 的正整數向量，並且將其中的最大值改成 -1。\n"
   ]
  },
  {
   "cell_type": "code",
   "execution_count": 5,
   "metadata": {
    "id": "Yu1kbLxojxyU",
    "outputId": "d323e754-178a-46ae-e15e-98275ae220dd"
   },
   "outputs": [
    {
     "name": "stdout",
     "output_type": "stream",
     "text": [
      "[ 2 64 98 90 57 68 47 63  7 47]\n",
      "[ 2 64 -1 90 57 68 47 63  7 47]\n"
     ]
    }
   ],
   "source": [
    "#引進新版套件\n",
    "from numpy.random import default_rng\n",
    "rng=default_rng()\n",
    "B=rng.integers(0,100,size=10) #建立長度為10的0~100正整數向量\n",
    "print(B)\n",
    "index_max=np.argmax(B) #np.argmax()可找出array最大值的索引\n",
    "B[index_max]=-1 #將該索引的值改成=-1\n",
    "print(B)\n"
   ]
  }
 ],
 "metadata": {
  "colab": {
   "name": "06 Homework_維元.ipynb",
   "provenance": []
  },
  "kernelspec": {
   "display_name": "Python 3",
   "language": "python",
   "name": "python3"
  },
  "language_info": {
   "codemirror_mode": {
    "name": "ipython",
    "version": 3
   },
   "file_extension": ".py",
   "mimetype": "text/x-python",
   "name": "python",
   "nbconvert_exporter": "python",
   "pygments_lexer": "ipython3",
   "version": "3.7.3"
  }
 },
 "nbformat": 4,
 "nbformat_minor": 1
}
