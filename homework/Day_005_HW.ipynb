{
 "cells": [
  {
   "cell_type": "markdown",
   "metadata": {
    "colab_type": "text",
    "id": "P6xk2_jLsvFF"
   },
   "source": [
    "# [作業目標]\n",
    "\n",
    "1. 產生一個 1-11 的一維陣列，並且把 3-6 由正數變成負數。\n",
    "2. 試著從一個隨機陣列中，找出比 0.5 大的數有幾個？\n",
    "\n"
   ]
  },
  {
   "cell_type": "markdown",
   "metadata": {
    "colab_type": "text",
    "id": "uXGll28asvFS"
   },
   "source": [
    "# 作業 "
   ]
  },
  {
   "cell_type": "markdown",
   "metadata": {},
   "source": [
    "### 1. 產生一個 1-11 的一維陣列，並且把 3-6 由正數變成負數。\n",
    "\n"
   ]
  },
  {
   "cell_type": "code",
   "execution_count": 1,
   "metadata": {},
   "outputs": [],
   "source": [
    "# 記得先 Import 正確的套件\n",
    "import numpy as np"
   ]
  },
  {
   "cell_type": "code",
   "execution_count": 2,
   "metadata": {
    "colab": {},
    "colab_type": "code",
    "id": "5QrYoyNWsvFS"
   },
   "outputs": [
    {
     "name": "stdout",
     "output_type": "stream",
     "text": [
      "1-11的一維陣列: [ 1  2  3  4  5  6  7  8  9 10 11]\n",
      "把 3-6 由正數變成負數後的陣列: [ 1  2 -3 -4 -5 -6  7  8  9 10 11]\n"
     ]
    }
   ],
   "source": [
    "a=np.arange(1,12)\n",
    "print('1-11的一維陣列:',a)\n",
    "for i in a:\n",
    "    if (i>=3 and i<=6):\n",
    "        a[i-1]=-a[i-1]\n",
    "print('把 3-6 由正數變成負數後的陣列:',a)"
   ]
  },
  {
   "cell_type": "markdown",
   "metadata": {},
   "source": [
    "### 2. 試著從一個隨機陣列中，找出比 0.5 大的數有幾個？\n",
    "\n"
   ]
  },
  {
   "cell_type": "code",
   "execution_count": 3,
   "metadata": {
    "colab": {},
    "colab_type": "code",
    "id": "e1gVI0tvsvFY"
   },
   "outputs": [
    {
     "name": "stdout",
     "output_type": "stream",
     "text": [
      "A陣列: [[0.46215172 0.9172521  0.75115435 0.10748042 0.93086385 0.52366841]\n",
      " [0.46010451 0.69862968 0.74940727 0.21033397 0.87631646 0.2068581 ]\n",
      " [0.09026302 0.20156333 0.3506845  0.43233724 0.83444075 0.57894767]]\n",
      "[[False  True  True False  True  True]\n",
      " [False  True  True False  True False]\n",
      " [False False False False  True  True]]\n",
      "[0.9172521  0.75115435 0.93086385 0.52366841 0.69862968 0.74940727\n",
      " 0.87631646 0.83444075 0.57894767]\n",
      "A陣列當中比0.5大的數有9個\n"
     ]
    }
   ],
   "source": [
    "A = np.random.rand(3, 6)\n",
    "print('A陣列:',A)\n",
    "print(A>0.5)\n",
    "c=A[A>0.5]\n",
    "print(c)\n",
    "print('A陣列當中比0.5大的數有%d個'%c.size)"
   ]
  }
 ],
 "metadata": {
  "colab": {
   "name": "Day_023_HW.ipynb",
   "provenance": []
  },
  "kernelspec": {
   "display_name": "Python 3",
   "language": "python",
   "name": "python3"
  },
  "language_info": {
   "codemirror_mode": {
    "name": "ipython",
    "version": 3
   },
   "file_extension": ".py",
   "mimetype": "text/x-python",
   "name": "python",
   "nbconvert_exporter": "python",
   "pygments_lexer": "ipython3",
   "version": "3.7.3"
  }
 },
 "nbformat": 4,
 "nbformat_minor": 1
}
