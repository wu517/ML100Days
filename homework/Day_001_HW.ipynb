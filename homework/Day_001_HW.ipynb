{
 "cells": [
  {
   "cell_type": "code",
   "execution_count": 1,
   "metadata": {},
   "outputs": [],
   "source": [
    "import numpy as np"
   ]
  },
  {
   "cell_type": "code",
   "execution_count": 2,
   "metadata": {},
   "outputs": [
    {
     "name": "stdout",
     "output_type": "stream",
     "text": [
      "[ 0  1  2  3  4  5  6  7  8  9 10 11 12 13 14 15 16 17 18 19 20]\n"
     ]
    }
   ],
   "source": [
    "#1.生成一個等差數列，首數為0，尾數為20，公差為1的數列。\n",
    "Array=np.arange(0,21,1)\n",
    "print(Array)"
   ]
  },
  {
   "cell_type": "code",
   "execution_count": 3,
   "metadata": {},
   "outputs": [
    {
     "name": "stdout",
     "output_type": "stream",
     "text": [
      "[ 0  2  4  6  8 10 12 14 16 18 20]\n"
     ]
    }
   ],
   "source": [
    "#2.呈上題，將以上數列取出偶數。\n",
    "Even=Array[0::2]\n",
    "print(Even)"
   ]
  },
  {
   "cell_type": "code",
   "execution_count": 4,
   "metadata": {},
   "outputs": [
    {
     "name": "stdout",
     "output_type": "stream",
     "text": [
      "[ 3  6  9 12 15 18]\n"
     ]
    }
   ],
   "source": [
    "#3.呈1題，將數列取出3的倍數。\n",
    "mul_3=Array[3::3]\n",
    "print(mul_3)"
   ]
  },
  {
   "cell_type": "markdown",
   "metadata": {},
   "source": [
    "[簡答題] 請問下列兩種將 Array 轉換成 List 的方式有何不同？<br>\n",
    "Ans:<br>\n",
    "list()是將元組(Tuple)轉換為列表(List)，\n",
    "因元組的元素值不能修改，只能將數據中的最外層進行list操作。<br>\n",
    "tolist()是數組或矩陣轉為List形式，\n",
    "因此能將輸入進去的數據全部list化。\n",
    "\n"
   ]
  },
  {
   "cell_type": "code",
   "execution_count": 9,
   "metadata": {},
   "outputs": [
    {
     "name": "stdout",
     "output_type": "stream",
     "text": [
      "陣列Array的維度數目為: 1\n",
      "陣列Array的元素數目為: 21\n",
      "陣列Array每個元素的記憶體使用量為: 4\n"
     ]
    }
   ],
   "source": [
    "#5.請試著在程式中印出以下三個 NdArray 的屬性？（屬性：ndim、shape、size、dtype、itemsize、length、type）\n",
    "print('陣列Array的維度數目為:',Array.ndim)\n",
    "print('陣列Array的元素數目為:',Array.size)\n",
    "print('陣列Array每個元素的記憶體使用量為:',Array.itemsize)"
   ]
  },
  {
   "cell_type": "code",
   "execution_count": 26,
   "metadata": {},
   "outputs": [
    {
     "name": "stdout",
     "output_type": "stream",
     "text": [
      "[[ 0  1  2  3  4  5  6]\n",
      " [ 7  8  9 10 11 12 13]\n",
      " [14 15 16 17 18 19 20]]\n"
     ]
    }
   ],
   "source": [
    "#6.如何利用 list(...) 實現 a.tolist() 的效果？試著用程式實作。\n",
    "a=Array.reshape((3,7))\n",
    "print(a)\n",
    "#\n",
    "new_a0=[]\n",
    "for i in range(7):\n",
    "    new_a0.append(a[0,i])\n",
    "new_a1=[]\n",
    "for j in range(7):\n",
    "    new_a1.append(a[1,j])\n",
    "new_a2=[]\n",
    "for k in range(7):\n",
    "    new_a2.append(a[2,k])\n",
    "new_a_list=[new_a0,new_a1,new_a2]\n",
    "print(new_a_list)\n",
    "print(a.tolist())"
   ]
  },
  {
   "cell_type": "code",
   "execution_count": 31,
   "metadata": {},
   "outputs": [
    {
     "name": "stdout",
     "output_type": "stream",
     "text": [
      "[[0, 1, 2, 3, 4, 5, 6], [7, 8, 9, 10, 11, 12, 13], [14, 15, 16, 17, 18, 19, 20]]\n",
      "[[0, 1, 2, 3, 4, 5, 6], [7, 8, 9, 10, 11, 12, 13], [14, 15, 16, 17, 18, 19, 20]]\n"
     ]
    }
   ],
   "source": []
  },
  {
   "cell_type": "code",
   "execution_count": null,
   "metadata": {},
   "outputs": [],
   "source": []
  }
 ],
 "metadata": {
  "kernelspec": {
   "display_name": "Python 3",
   "language": "python",
   "name": "python3"
  },
  "language_info": {
   "codemirror_mode": {
    "name": "ipython",
    "version": 3
   },
   "file_extension": ".py",
   "mimetype": "text/x-python",
   "name": "python",
   "nbconvert_exporter": "python",
   "pygments_lexer": "ipython3",
   "version": "3.7.3"
  }
 },
 "nbformat": 4,
 "nbformat_minor": 2
}
